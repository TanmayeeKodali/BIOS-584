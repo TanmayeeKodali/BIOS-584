{
 "cells": [
  {
   "cell_type": "markdown",
   "id": "28cf6d02-ebdc-4494-9c9d-c62619241ca3",
   "metadata": {},
   "source": [
    "Name: Tanmayee Kodali"
   ]
  },
  {
   "cell_type": "code",
   "execution_count": 4,
   "id": "eb4085f9-ca74-4a81-82f6-7f258979ebbd",
   "metadata": {},
   "outputs": [
    {
     "name": "stdout",
     "output_type": "stream",
     "text": [
      "['cat1', 'cat1', 'cat1', 'cat2']\n"
     ]
    }
   ],
   "source": [
    "list_cats = ['cat1', 'cat1', 'cat1']\n",
    "list_cats.append('cat2')\n",
    "print(list_cats)"
   ]
  },
  {
   "cell_type": "code",
   "execution_count": 16,
   "id": "0d563330-a7de-4a7a-a922-79fbaf39af8d",
   "metadata": {},
   "outputs": [
    {
     "name": "stdout",
     "output_type": "stream",
     "text": [
      "[]\n"
     ]
    }
   ],
   "source": [
    "list_cats_ii = ['cat1', 'cat1', 'cat1']\n",
    "list_cats_ii.clear()\n",
    "print(list_cats_ii)"
   ]
  },
  {
   "cell_type": "code",
   "execution_count": 32,
   "id": "b04dbc0f-efcf-4337-8881-9f9a33a3e710",
   "metadata": {},
   "outputs": [
    {
     "name": "stdout",
     "output_type": "stream",
     "text": [
      "['cat1', 'cat1', 'cat1']\n"
     ]
    }
   ],
   "source": [
    "list_cats_iii = ['cat1', 'cat1', 'cat1']\n",
    "print(list_cats_iii.copy())"
   ]
  },
  {
   "cell_type": "code",
   "execution_count": 31,
   "id": "635e2248-6688-4938-b5ab-15cf184bbf7b",
   "metadata": {},
   "outputs": [
    {
     "name": "stdout",
     "output_type": "stream",
     "text": [
      "2\n"
     ]
    }
   ],
   "source": [
    "list_cats_iv = ['cat1', 'cat1', 'cat2']\n",
    "print(list_cats_iv.count('cat1')) # count the number of item with \"cat1\""
   ]
  },
  {
   "cell_type": "code",
   "execution_count": 28,
   "id": "e065cab4-ee3d-4222-8b9b-11023eedc342",
   "metadata": {},
   "outputs": [
    {
     "name": "stdout",
     "output_type": "stream",
     "text": [
      "2\n"
     ]
    }
   ],
   "source": [
    "list_cats_v = ['cat1', 'cat1', 'cat2']\n",
    "print(list_cats_v.index('cat2')) # Find the location of \"cat2\""
   ]
  },
  {
   "cell_type": "code",
   "execution_count": 29,
   "id": "11dbe629-0ccf-47e8-8d3e-c4bdbe0b511e",
   "metadata": {},
   "outputs": [],
   "source": [
    "list_cats_vi = ['cat1', 'cat1', 'cat2']\n",
    "list_cats_vi.insert(1, 'cat2')\n",
    "# Insert \"cat2\" at index 1 such that \"cat2\" will be at index 1 after insertion"
   ]
  },
  {
   "cell_type": "code",
   "execution_count": 39,
   "id": "f7982897-3481-4b8f-b101-149a18a2ba08",
   "metadata": {},
   "outputs": [
    {
     "name": "stdout",
     "output_type": "stream",
     "text": [
      "['cat1', 'cat2', 'cat1', 'cat2']\n"
     ]
    }
   ],
   "source": [
    "print(list_cats_vi) # Since list is mutable, after .insert(), the list is updated itself. No variable assignment is needed."
   ]
  },
  {
   "cell_type": "code",
   "execution_count": 33,
   "id": "76fb6f74-ac26-4bb4-b94f-9c00d5fc562e",
   "metadata": {},
   "outputs": [
    {
     "data": {
      "text/plain": [
       "'cat2'"
      ]
     },
     "execution_count": 33,
     "metadata": {},
     "output_type": "execute_result"
    }
   ],
   "source": [
    "list_cats_vii = ['cat1', 'cat1', 'cat2']\n",
    "list_cats_vii.pop(2)"
   ]
  },
  {
   "cell_type": "code",
   "execution_count": 42,
   "id": "e50465ad-812a-4ba2-8886-1e0c3b479bd0",
   "metadata": {},
   "outputs": [
    {
     "name": "stdout",
     "output_type": "stream",
     "text": [
      "['cat1', 'cat1']\n"
     ]
    }
   ],
   "source": [
    "print(list_cats_vii) # We remove the new insertion"
   ]
  },
  {
   "cell_type": "code",
   "execution_count": 34,
   "id": "fa748884-fd6e-452a-bb23-d733f3db8ea9",
   "metadata": {},
   "outputs": [],
   "source": [
    "list_cats_viii = ['cat1', 'cat1', 'cat2']\n",
    "list_cats_viii.remove('cat2')"
   ]
  },
  {
   "cell_type": "code",
   "execution_count": 40,
   "id": "66d04051-f2ae-455d-ac57-267a52b77ecb",
   "metadata": {},
   "outputs": [
    {
     "name": "stdout",
     "output_type": "stream",
     "text": [
      "['cat1', 'cat1']\n"
     ]
    }
   ],
   "source": [
    "print(list_cats_viii) # It removes the first \"cat2\""
   ]
  },
  {
   "cell_type": "code",
   "execution_count": 41,
   "id": "ebe17333-0ce7-4217-ad7d-a16c0193acca",
   "metadata": {},
   "outputs": [
    {
     "name": "stdout",
     "output_type": "stream",
     "text": [
      "['cat2', 'cat1', 'cat1']\n"
     ]
    }
   ],
   "source": [
    "list_cats_ix = ['cat1', 'cat1', 'cat2']\n",
    "list_cats_ix.reverse()\n",
    "print(list_cats_ix)"
   ]
  }
 ],
 "metadata": {
  "kernelspec": {
   "display_name": "Python 3 (ipykernel)",
   "language": "python",
   "name": "python3"
  },
  "language_info": {
   "codemirror_mode": {
    "name": "ipython",
    "version": 3
   },
   "file_extension": ".py",
   "mimetype": "text/x-python",
   "name": "python",
   "nbconvert_exporter": "python",
   "pygments_lexer": "ipython3",
   "version": "3.13.7"
  }
 },
 "nbformat": 4,
 "nbformat_minor": 5
}
