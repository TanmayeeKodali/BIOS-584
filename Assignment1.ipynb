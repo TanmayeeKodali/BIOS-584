{
 "cells": [
  {
   "cell_type": "markdown",
   "id": "d8e77368-5025-42e0-a13a-4aadda9f4498",
   "metadata": {},
   "source": [
    "This is my first Jupyter Notebook"
   ]
  },
  {
   "cell_type": "code",
   "execution_count": 2,
   "id": "e098802f-cfc2-4b51-9227-bb9d725b6474",
   "metadata": {},
   "outputs": [
    {
     "name": "stdout",
     "output_type": "stream",
     "text": [
      "My name is Tanmayee Kodali\n"
     ]
    }
   ],
   "source": [
    "print(\"My name is Tanmayee Kodali\")"
   ]
  },
  {
   "cell_type": "code",
   "execution_count": null,
   "id": "68c97fed-7692-4cd1-9b11-9d910ef6d8a0",
   "metadata": {},
   "outputs": [],
   "source": []
  }
 ],
 "metadata": {
  "kernelspec": {
   "display_name": "Python 3 (ipykernel)",
   "language": "python",
   "name": "python3"
  },
  "language_info": {
   "codemirror_mode": {
    "name": "ipython",
    "version": 3
   },
   "file_extension": ".py",
   "mimetype": "text/x-python",
   "name": "python",
   "nbconvert_exporter": "python",
   "pygments_lexer": "ipython3",
   "version": "3.13.7"
  }
 },
 "nbformat": 4,
 "nbformat_minor": 5
}
